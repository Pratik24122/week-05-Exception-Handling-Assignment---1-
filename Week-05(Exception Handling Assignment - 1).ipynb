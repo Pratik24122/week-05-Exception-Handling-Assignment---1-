{
 "cells": [
  {
   "cell_type": "markdown",
   "id": "938c56ba",
   "metadata": {},
   "source": [
    "### Q1"
   ]
  },
  {
   "cell_type": "code",
   "execution_count": 22,
   "id": "f97ae654",
   "metadata": {},
   "outputs": [],
   "source": [
    "#An exception is an event that occurs during the execution of a program and disrupts the normal flow of \n",
    "#instructions.\n",
    "#The difference between an exception and a syntax error is that a syntax error prevents the program from \n",
    "#being compiled or interpreted, while an exception occurs during the runtime of the program.\n",
    "#Syntax error is missing commas,semi-column,brackets in program and exception is like import error,\n",
    "#type error, zero division error,etc."
   ]
  },
  {
   "cell_type": "markdown",
   "id": "48a0f098",
   "metadata": {},
   "source": [
    "### Q2"
   ]
  },
  {
   "cell_type": "code",
   "execution_count": null,
   "id": "f22fb247",
   "metadata": {},
   "outputs": [],
   "source": [
    "#If an exception is not handled, the program will stop running and display an error message,\n",
    "#and the code after the exception will not be executed."
   ]
  },
  {
   "cell_type": "code",
   "execution_count": 12,
   "id": "fdff78f6",
   "metadata": {},
   "outputs": [
    {
     "name": "stdout",
     "output_type": "stream",
     "text": [
      "Enter a number :10\n",
      "Enter a number :0\n"
     ]
    },
    {
     "ename": "ZeroDivisionError",
     "evalue": "division by zero",
     "output_type": "error",
     "traceback": [
      "\u001b[1;31m---------------------------------------------------------------------------\u001b[0m",
      "\u001b[1;31mZeroDivisionError\u001b[0m                         Traceback (most recent call last)",
      "\u001b[1;32m~\\AppData\\Local\\Temp\\ipykernel_6976\\1066310247.py\u001b[0m in \u001b[0;36m<module>\u001b[1;34m\u001b[0m\n\u001b[0;32m      5\u001b[0m \u001b[0ma\u001b[0m\u001b[1;33m=\u001b[0m\u001b[0mint\u001b[0m\u001b[1;33m(\u001b[0m\u001b[0minput\u001b[0m\u001b[1;33m(\u001b[0m\u001b[1;34m'Enter a number :'\u001b[0m\u001b[1;33m)\u001b[0m\u001b[1;33m)\u001b[0m\u001b[1;33m\u001b[0m\u001b[1;33m\u001b[0m\u001b[0m\n\u001b[0;32m      6\u001b[0m \u001b[0mb\u001b[0m\u001b[1;33m=\u001b[0m\u001b[0mint\u001b[0m\u001b[1;33m(\u001b[0m\u001b[0minput\u001b[0m\u001b[1;33m(\u001b[0m\u001b[1;34m'Enter a number :'\u001b[0m\u001b[1;33m)\u001b[0m\u001b[1;33m)\u001b[0m\u001b[1;33m\u001b[0m\u001b[1;33m\u001b[0m\u001b[0m\n\u001b[1;32m----> 7\u001b[1;33m \u001b[0mdiv\u001b[0m\u001b[1;33m=\u001b[0m\u001b[0ma\u001b[0m\u001b[1;33m/\u001b[0m\u001b[0mb\u001b[0m\u001b[1;33m\u001b[0m\u001b[1;33m\u001b[0m\u001b[0m\n\u001b[0m\u001b[0;32m      8\u001b[0m \u001b[0mprint\u001b[0m\u001b[1;33m(\u001b[0m\u001b[0mdiv\u001b[0m\u001b[1;33m)\u001b[0m\u001b[1;33m\u001b[0m\u001b[1;33m\u001b[0m\u001b[0m\n\u001b[0;32m      9\u001b[0m \u001b[0mlogging\u001b[0m\u001b[1;33m.\u001b[0m\u001b[0minfo\u001b[0m\u001b[1;33m(\u001b[0m\u001b[1;34m'The program of Q2 is executed succesfully.'\u001b[0m\u001b[1;33m)\u001b[0m\u001b[1;33m\u001b[0m\u001b[1;33m\u001b[0m\u001b[0m\n",
      "\u001b[1;31mZeroDivisionError\u001b[0m: division by zero"
     ]
    }
   ],
   "source": [
    "#example\n",
    "import logging\n",
    "logging.basicConfig(filename='week-05(assignment-1).log',level=logging.INFO,format='%(asctime)s %(name)s %(levelname)s %(message)s')\n",
    "logging.info('The Q2 is being executed.')\n",
    "a=int(input('Enter a number :'))\n",
    "b=int(input('Enter a number :'))\n",
    "div=a/b\n",
    "print(div)\n",
    "logging.info('The program of Q2 is executed succesfully.')"
   ]
  },
  {
   "cell_type": "markdown",
   "id": "2a304b04",
   "metadata": {},
   "source": [
    "### Q3"
   ]
  },
  {
   "cell_type": "code",
   "execution_count": 4,
   "id": "e5b4b818",
   "metadata": {},
   "outputs": [],
   "source": [
    "# try statement is used to catch the error and except block is used to handle exceptions.`"
   ]
  },
  {
   "cell_type": "code",
   "execution_count": 13,
   "id": "4cfcea8a",
   "metadata": {},
   "outputs": [
    {
     "name": "stdout",
     "output_type": "stream",
     "text": [
      "[Errno 2] No such file or directory: 'test.txt'\n"
     ]
    }
   ],
   "source": [
    "# example\n",
    "try:\n",
    "   logging.info('The Q3 is running.')\n",
    "   with open('test.txt','r') as f:\n",
    "    f.write('Hello everyone!')\n",
    "    logging.info('The Q3 is executed Succesfully.')\n",
    "except FileNotFoundError as e:\n",
    "    logging.error(e)\n",
    "    print(e)\n",
    "    "
   ]
  },
  {
   "cell_type": "markdown",
   "id": "f2d78325",
   "metadata": {},
   "source": [
    "### Q4"
   ]
  },
  {
   "cell_type": "code",
   "execution_count": 1,
   "id": "9996a643",
   "metadata": {},
   "outputs": [],
   "source": [
    "#1) try and else\n",
    "#try - It is use to execute the code.If the exception occurs in try block the execution flow jumps to the \n",
    "#except block.\n",
    "#else - This block is only executed if no exception occurs with in the try block."
   ]
  },
  {
   "cell_type": "code",
   "execution_count": 14,
   "id": "b46a28f7",
   "metadata": {},
   "outputs": [
    {
     "name": "stdout",
     "output_type": "stream",
     "text": [
      "Enter a number:10\n",
      "Enter a number:2\n",
      "5.0\n",
      "This is else block.\n"
     ]
    }
   ],
   "source": [
    "#example of try and else:\n",
    "try:\n",
    "    logging.info('The Q4(try & else) is being executed.')\n",
    "    a=int(input('Enter a number:'))\n",
    "    b=int(input('Enter a number:'))\n",
    "    c=a/b\n",
    "    print(c)\n",
    "    logging.info(f'Output : {c}')\n",
    "except ZeroDivisionError as e:\n",
    "    logging.error(e)\n",
    "    print(e)\n",
    "else:\n",
    "    print('This is else block.')\n",
    "    logging.info('The Q4(try & else) is executed.')"
   ]
  },
  {
   "cell_type": "code",
   "execution_count": 15,
   "id": "0e87ec60",
   "metadata": {},
   "outputs": [
    {
     "name": "stdout",
     "output_type": "stream",
     "text": [
      "Enter a number:10\n",
      "Enter a number:0\n",
      "division by zero\n"
     ]
    }
   ],
   "source": [
    "#example of try and else with error:\n",
    "try:\n",
    "    logging.info('The Q4(try & else) is being executed.')\n",
    "    a=int(input('Enter a number:'))\n",
    "    b=int(input('Enter a number:'))\n",
    "    c=a/b\n",
    "    print(c)\n",
    "    logging.info(f'Output : {c}')\n",
    "except ZeroDivisionError as e:\n",
    "    logging.error(e)\n",
    "    print(e)\n",
    "else:\n",
    "    print('This is else block.')\n",
    "    logging.info('The Q4(try & else) is executed.')"
   ]
  },
  {
   "cell_type": "code",
   "execution_count": 6,
   "id": "82efb02d",
   "metadata": {},
   "outputs": [],
   "source": [
    "#2) Finally\n",
    "#This block ia always executed, regardless the exception occurs or not."
   ]
  },
  {
   "cell_type": "code",
   "execution_count": 17,
   "id": "27224302",
   "metadata": {},
   "outputs": [
    {
     "name": "stdout",
     "output_type": "stream",
     "text": [
      "Enter a number:10\n",
      "Enter a number:2\n",
      "5.0\n",
      "This is finally block.\n"
     ]
    }
   ],
   "source": [
    "#example of finally\n",
    "try:\n",
    "    logging.info('The Q4(finally) is being executed.')\n",
    "    a=int(input('Enter a number:'))\n",
    "    b=int(input('Enter a number:'))\n",
    "    c=a/b\n",
    "    print(c)\n",
    "    logging.info(f'Output : {c}')\n",
    "    logging.info('The Q4(finally) executed.')\n",
    "except ZeroDivisionError as e:\n",
    "    print(e)\n",
    "    logging.error(e)\n",
    "finally:\n",
    "    print('This is finally block.')\n",
    "    "
   ]
  },
  {
   "cell_type": "code",
   "execution_count": 19,
   "id": "d7cf4e73",
   "metadata": {},
   "outputs": [
    {
     "name": "stdout",
     "output_type": "stream",
     "text": [
      "Enter a number:17\n",
      "Enter a number:0\n",
      "division by zero\n",
      "This is finally block.\n"
     ]
    }
   ],
   "source": [
    "#example of finally with error\n",
    "try:\n",
    "    logging.info('The Q4(finally) is being executed.')\n",
    "    a=int(input('Enter a number:'))\n",
    "    b=int(input('Enter a number:'))\n",
    "    c=a/b\n",
    "    print(c)\n",
    "    logging.info(f'Output : {c}')\n",
    "    logging.info('The Q4(finally) executed.')\n",
    "except ZeroDivisionError as e:\n",
    "    print(e)\n",
    "    logging.error(e)\n",
    "finally:\n",
    "    print('This is finally block.')"
   ]
  },
  {
   "cell_type": "code",
   "execution_count": 11,
   "id": "b336328d",
   "metadata": {},
   "outputs": [],
   "source": [
    "#3) raise\n",
    "#This keyword allows you to explicitly raise an exception within your code.\n",
    "#You can specify the type of exception and provide an optional message for debugging purposes."
   ]
  },
  {
   "cell_type": "code",
   "execution_count": 20,
   "id": "2202ef55",
   "metadata": {},
   "outputs": [
    {
     "name": "stdout",
     "output_type": "stream",
     "text": [
      "Enter a number:10\n",
      "Enter a number:0\n",
      "division by zero\n"
     ]
    },
    {
     "ename": "ValueError",
     "evalue": "This is a custom error message.",
     "output_type": "error",
     "traceback": [
      "\u001b[1;31m---------------------------------------------------------------------------\u001b[0m",
      "\u001b[1;31mValueError\u001b[0m                                Traceback (most recent call last)",
      "\u001b[1;32m~\\AppData\\Local\\Temp\\ipykernel_6976\\1727152094.py\u001b[0m in \u001b[0;36m<module>\u001b[1;34m\u001b[0m\n\u001b[0;32m     10\u001b[0m     \u001b[0mprint\u001b[0m\u001b[1;33m(\u001b[0m\u001b[0me\u001b[0m\u001b[1;33m)\u001b[0m\u001b[1;33m\u001b[0m\u001b[1;33m\u001b[0m\u001b[0m\n\u001b[0;32m     11\u001b[0m     \u001b[0mlogging\u001b[0m\u001b[1;33m.\u001b[0m\u001b[0merror\u001b[0m\u001b[1;33m(\u001b[0m\u001b[0me\u001b[0m\u001b[1;33m)\u001b[0m\u001b[1;33m\u001b[0m\u001b[1;33m\u001b[0m\u001b[0m\n\u001b[1;32m---> 12\u001b[1;33m \u001b[1;32mraise\u001b[0m \u001b[0mValueError\u001b[0m\u001b[1;33m(\u001b[0m\u001b[1;34m\"This is a custom error message.\"\u001b[0m\u001b[1;33m)\u001b[0m\u001b[1;33m\u001b[0m\u001b[1;33m\u001b[0m\u001b[0m\n\u001b[0m",
      "\u001b[1;31mValueError\u001b[0m: This is a custom error message."
     ]
    }
   ],
   "source": [
    "try:\n",
    "    logging.info('The Q4(raise) is being executed.')\n",
    "    a=int(input('Enter a number:'))\n",
    "    b=int(input('Enter a number:'))\n",
    "    c=a/b\n",
    "    print(c)\n",
    "    logging.info(f'Output : {c}')\n",
    "    logging.info('The Q4(raise) executed.')\n",
    "except ZeroDivisionError as e:\n",
    "    print(e)\n",
    "    logging.error(e)\n",
    "raise ValueError(\"This is a custom error message.\")"
   ]
  },
  {
   "cell_type": "markdown",
   "id": "c8c2f1f7",
   "metadata": {},
   "source": [
    "### Q5"
   ]
  },
  {
   "cell_type": "code",
   "execution_count": null,
   "id": "474a5192",
   "metadata": {},
   "outputs": [],
   "source": [
    "#Custom exception handling allows you to define your own exceptions and handle them specifically within your code.\n",
    "#To customize the exception according to our needs.\n",
    "#To implement business logic exceptions."
   ]
  },
  {
   "cell_type": "code",
   "execution_count": 21,
   "id": "dbaad54d",
   "metadata": {},
   "outputs": [
    {
     "name": "stdout",
     "output_type": "stream",
     "text": [
      "Enter your input: \n",
      "Error: Input cannot be empty.\n"
     ]
    }
   ],
   "source": [
    "#Example \n",
    "class InvalidInputError(Exception):\n",
    "    def __init__(self, message):\n",
    "        self.message = message\n",
    "\n",
    "def get_user_input():\n",
    "          user_input = input(\"Enter your input: \")\n",
    "          if not user_input:\n",
    "            raise InvalidInputError(\"Input cannot be empty.\")\n",
    "            return user_input\n",
    "\n",
    "try:\n",
    "      logging.info('The Q6 is being executed.')\n",
    "      user_input = get_user_input()\n",
    "except InvalidInputError as e:\n",
    "      print(f\"Error: {e.message}\")\n",
    "      logging.error(e)\n",
    "else:\n",
    "    print(f\"Your input: {user_input}\")\n",
    "    logging.info(f'Output : {user_input}')\n",
    "    logging.info('The Q6 is executed.')\n"
   ]
  },
  {
   "cell_type": "markdown",
   "id": "4eb8cdc6",
   "metadata": {},
   "source": [
    "### Q6"
   ]
  },
  {
   "cell_type": "code",
   "execution_count": 3,
   "id": "2a9038d9",
   "metadata": {},
   "outputs": [
    {
     "name": "stdout",
     "output_type": "stream",
     "text": [
      "Enter your name: p\n",
      "Error: Name should contain more than 3 words.\n"
     ]
    }
   ],
   "source": [
    "\n",
    "class InvalidInputError(Exception):\n",
    "    def __init__(self, message):\n",
    "        self.message = message\n",
    "\n",
    "def get_user_input():\n",
    "          user_input = input(\"Enter your name: \")\n",
    "          if len(user_input)<3:\n",
    "            raise InvalidInputError(\"Name should contain more than 3 words.\")\n",
    "            \n",
    "\n",
    "try:\n",
    "      logging.info('The Q6 is being executed.')\n",
    "      user_input = get_user_input()\n",
    "except InvalidInputError as e:\n",
    "      logging.error(e)\n",
    "      print(f\"Error: {e.message}\")\n",
    "else:\n",
    "    logging.info('The Q6 is executed.')\n",
    "    print(f\"Your input: {user_input}\")\n",
    "    logging.info(f'Output : {user_output}')"
   ]
  },
  {
   "cell_type": "code",
   "execution_count": null,
   "id": "e974e967",
   "metadata": {},
   "outputs": [],
   "source": []
  }
 ],
 "metadata": {
  "kernelspec": {
   "display_name": "Python 3 (ipykernel)",
   "language": "python",
   "name": "python3"
  },
  "language_info": {
   "codemirror_mode": {
    "name": "ipython",
    "version": 3
   },
   "file_extension": ".py",
   "mimetype": "text/x-python",
   "name": "python",
   "nbconvert_exporter": "python",
   "pygments_lexer": "ipython3",
   "version": "3.9.13"
  }
 },
 "nbformat": 4,
 "nbformat_minor": 5
}
